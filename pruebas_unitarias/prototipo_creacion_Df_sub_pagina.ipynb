{
 "cells": [
  {
   "cell_type": "markdown",
   "id": "47d047eb",
   "metadata": {},
   "source": [
    "# Prueba unitaria para la creacion de los DF de las sub paginas\n"
   ]
  },
  {
   "cell_type": "markdown",
   "id": "f0ad6ed4",
   "metadata": {},
   "source": [
    "## librerias"
   ]
  },
  {
   "cell_type": "code",
   "execution_count": 4,
   "id": "9abe70fe",
   "metadata": {},
   "outputs": [],
   "source": [
    "import pandas as pd\n",
    "import numpy as np\n",
    "from bs4 import BeautifulSoup\n",
    "import os"
   ]
  },
  {
   "cell_type": "markdown",
   "id": "b1336409",
   "metadata": {},
   "source": [
    "busqueda del archivo local"
   ]
  },
  {
   "cell_type": "code",
   "execution_count": 105,
   "id": "863a1ed7",
   "metadata": {},
   "outputs": [],
   "source": [
    "archivo = 'sub_pagina_scrapeada_1.html'"
   ]
  },
  {
   "cell_type": "markdown",
   "id": "40b50697",
   "metadata": {},
   "source": [
    "✓"
   ]
  },
  {
   "cell_type": "markdown",
   "id": "add673f7",
   "metadata": {},
   "source": [
    "apetura del archivo"
   ]
  },
  {
   "cell_type": "code",
   "execution_count": 106,
   "id": "f4dba5db",
   "metadata": {},
   "outputs": [],
   "source": [
    "with open(archivo, \"r\", encoding=\"utf-8\") as archivo:\n",
    "    contenido = archivo.read()"
   ]
  },
  {
   "cell_type": "markdown",
   "id": "24341d15",
   "metadata": {},
   "source": [
    "✓"
   ]
  },
  {
   "cell_type": "markdown",
   "id": "d9b97cd0",
   "metadata": {},
   "source": [
    "creacion del objeto soup que sera parseado"
   ]
  },
  {
   "cell_type": "code",
   "execution_count": 107,
   "id": "0429ba7f",
   "metadata": {},
   "outputs": [],
   "source": [
    "soup = BeautifulSoup(contenido,'html.parser')"
   ]
  },
  {
   "cell_type": "markdown",
   "id": "5a535169",
   "metadata": {},
   "source": [
    "✓"
   ]
  },
  {
   "cell_type": "markdown",
   "id": "35808b0c",
   "metadata": {},
   "source": [
    "busqueda de la etiqueta que contiene la direccion, que pposteriormente sera usado en power BI como ID"
   ]
  },
  {
   "cell_type": "code",
   "execution_count": 117,
   "id": "de66738c",
   "metadata": {
    "scrolled": true
   },
   "outputs": [],
   "source": [
    "a = soup.find('div', {'class': 'section-location-property section-location-property-classified'})"
   ]
  },
  {
   "cell_type": "code",
   "execution_count": 119,
   "id": "8d97109c",
   "metadata": {},
   "outputs": [
    {
     "data": {
      "text/plain": [
       "'Balbastro al 3500,  San Justo, La Matanza'"
      ]
     },
     "execution_count": 119,
     "metadata": {},
     "output_type": "execute_result"
    }
   ],
   "source": [
    "a.text.strip() "
   ]
  },
  {
   "cell_type": "markdown",
   "id": "2e3a6e56",
   "metadata": {},
   "source": [
    "✓"
   ]
  },
  {
   "cell_type": "markdown",
   "id": "010f6375",
   "metadata": {},
   "source": [
    "creacion del dataframe donde se guardaran posteriormente los datos"
   ]
  },
  {
   "cell_type": "code",
   "execution_count": 5,
   "id": "f6eb5d97",
   "metadata": {},
   "outputs": [
    {
     "data": {
      "text/html": [
       "<div>\n",
       "<style scoped>\n",
       "    .dataframe tbody tr th:only-of-type {\n",
       "        vertical-align: middle;\n",
       "    }\n",
       "\n",
       "    .dataframe tbody tr th {\n",
       "        vertical-align: top;\n",
       "    }\n",
       "\n",
       "    .dataframe thead th {\n",
       "        text-align: right;\n",
       "    }\n",
       "</style>\n",
       "<table border=\"1\" class=\"dataframe\">\n",
       "  <thead>\n",
       "    <tr style=\"text-align: right;\">\n",
       "      <th></th>\n",
       "      <th>direccion</th>\n",
       "      <th>m2_total</th>\n",
       "      <th>m2_cubiertos</th>\n",
       "      <th>ambientes</th>\n",
       "      <th>banos</th>\n",
       "      <th>cocheras</th>\n",
       "      <th>dormitorios</th>\n",
       "      <th>toilettes</th>\n",
       "      <th>antiguedad</th>\n",
       "      <th>orientacion</th>\n",
       "      <th>luminosidad</th>\n",
       "    </tr>\n",
       "  </thead>\n",
       "  <tbody>\n",
       "  </tbody>\n",
       "</table>\n",
       "</div>"
      ],
      "text/plain": [
       "Empty DataFrame\n",
       "Columns: [direccion, m2_total, m2_cubiertos, ambientes, banos, cocheras, dormitorios, toilettes, antiguedad, orientacion, luminosidad]\n",
       "Index: []"
      ]
     },
     "execution_count": 5,
     "metadata": {},
     "output_type": "execute_result"
    }
   ],
   "source": [
    "caracteristicas = ['direccion','m2_total', 'm2_cubiertos', 'ambientes', 'banos', 'cocheras', 'dormitorios', 'toilettes', 'antiguedad', 'orientacion', 'luminosidad']\n",
    "\n",
    "df = pd.DataFrame(columns= caracteristicas)\n",
    "df"
   ]
  },
  {
   "cell_type": "markdown",
   "id": "164d9817",
   "metadata": {},
   "source": [
    "✓"
   ]
  },
  {
   "cell_type": "markdown",
   "id": "125346d6",
   "metadata": {},
   "source": [
    "creacion de un diccionario que contendra como llaves los valores que seran buscado y se iniciaran con none"
   ]
  },
  {
   "cell_type": "code",
   "execution_count": 38,
   "id": "33d87360",
   "metadata": {},
   "outputs": [],
   "source": [
    "caracteristicas_ = {\n",
    "    'm2_total': None, 'm2_cubiertos': None, 'ambientes': None, \n",
    "    'banos': None, 'cocheras': None, 'dormitorios': None, \n",
    "    'toilettes': None, 'antiguedad': None, 'orientacion': None, 'luminosidad': None\n",
    "}"
   ]
  },
  {
   "cell_type": "markdown",
   "id": "8fde64a1",
   "metadata": {},
   "source": [
    "✓"
   ]
  },
  {
   "cell_type": "markdown",
   "id": "dc11f348",
   "metadata": {},
   "source": [
    "- iterara sobre las etiquetas li que sean de la clase 'icon-feature'\n",
    "- luego se obtiene la clase de los elementos i \n",
    "- a continuacion extraera los textos dentro de li\n",
    "- por ultimo se usaran condicionales para \"acomodar\" los datos que vaya extrayendo de las etiquetas li que se estan iterando "
   ]
  },
  {
   "cell_type": "code",
   "execution_count": 52,
   "id": "04e94e70",
   "metadata": {},
   "outputs": [
    {
     "name": "stderr",
     "output_type": "stream",
     "text": [
      "C:\\Users\\Andres\\AppData\\Local\\Temp\\ipykernel_26320\\866645930.py:30: FutureWarning: The frame.append method is deprecated and will be removed from pandas in a future version. Use pandas.concat instead.\n",
      "  df = df.append(property_data, ignore_index=True)\n"
     ]
    }
   ],
   "source": [
    "for li in soup.find_all(\"li\", class_=\"icon-feature\"):\n",
    "    icon = li.find(\"i\")[\"class\"][0]  # Obtener la clase del ícono\n",
    "    \n",
    "    # Extraer texto relevante de cada `li`\n",
    "    text = li.get_text(strip=True)\n",
    "    \n",
    "    # Condicionales según la clase del ícono para asignar al diccionario\n",
    "    if icon == \"icon-stotal\":\n",
    "        property_data[\"m2_total\"] = int(text.split()[0])\n",
    "    elif icon == \"icon-scubierta\":\n",
    "        property_data[\"m2_cubiertos\"] = int(text.split()[0])\n",
    "    elif icon == \"icon-ambiente\":\n",
    "        property_data[\"ambientes\"] = int(text.split()[0])\n",
    "    elif icon == \"icon-bano\":\n",
    "        property_data[\"banos\"] = int(text.split()[0])\n",
    "    elif icon == \"icon-cochera\":\n",
    "        property_data[\"cocheras\"] = int(text.split()[0])\n",
    "    elif icon == \"icon-dormitorio\":\n",
    "        property_data[\"dormitorios\"] = int(text.split()[0])\n",
    "    elif icon == \"icon-toilete\":\n",
    "        property_data[\"toilettes\"] = int(text.split()[0])\n",
    "    elif icon == \"icon-antiguedad\":\n",
    "        property_data[\"antiguedad\"] = int(text.split()[0])\n",
    "    elif icon == \"icon-orientacion\":\n",
    "        property_data[\"orientacion\"] = text\n",
    "    elif icon == \"icon-luminosidad\":\n",
    "        property_data[\"luminosidad\"] = text\n",
    "\n",
    "# Agregar los datos extraídos al DataFrame\n",
    "df = df.append(property_data, ignore_index=True)\n"
   ]
  },
  {
   "cell_type": "markdown",
   "id": "ccecea5e",
   "metadata": {},
   "source": [
    "✓"
   ]
  }
 ],
 "metadata": {
  "kernelspec": {
   "display_name": "Python 3 (ipykernel)",
   "language": "python",
   "name": "python3"
  },
  "language_info": {
   "codemirror_mode": {
    "name": "ipython",
    "version": 3
   },
   "file_extension": ".py",
   "mimetype": "text/x-python",
   "name": "python",
   "nbconvert_exporter": "python",
   "pygments_lexer": "ipython3",
   "version": "3.11.5"
  }
 },
 "nbformat": 4,
 "nbformat_minor": 5
}
