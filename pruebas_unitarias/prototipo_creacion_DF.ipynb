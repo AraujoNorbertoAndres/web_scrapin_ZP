{
 "cells": [
  {
   "cell_type": "markdown",
   "id": "f8cf0211",
   "metadata": {},
   "source": [
    "# Creacion del DF principal"
   ]
  },
  {
   "cell_type": "markdown",
   "id": "f7431e4b",
   "metadata": {},
   "source": [
    "## importacion de las librerias"
   ]
  },
  {
   "cell_type": "code",
   "execution_count": 22,
   "id": "acba03ce",
   "metadata": {},
   "outputs": [],
   "source": [
    "import pandas as pd\n",
    "import numpy as np\n",
    "from bs4 import BeautifulSoup\n",
    "import os"
   ]
  },
  {
   "cell_type": "markdown",
   "id": "f8c9d919",
   "metadata": {},
   "source": [
    "✓"
   ]
  },
  {
   "cell_type": "markdown",
   "id": "749850f4",
   "metadata": {},
   "source": [
    "creacion de una variable con el nombre del archivo"
   ]
  },
  {
   "cell_type": "code",
   "execution_count": 23,
   "id": "1ac3a89c",
   "metadata": {},
   "outputs": [],
   "source": [
    "archivo = 'pagina_scrapeada_1.html'"
   ]
  },
  {
   "cell_type": "markdown",
   "id": "1367aa8b",
   "metadata": {},
   "source": [
    "✓"
   ]
  },
  {
   "cell_type": "markdown",
   "id": "baa2d7f0",
   "metadata": {},
   "source": [
    "apertura del archivo indicado "
   ]
  },
  {
   "cell_type": "code",
   "execution_count": 3,
   "id": "5dbc5ac6",
   "metadata": {},
   "outputs": [],
   "source": [
    "with open(archivo, \"r\", encoding=\"utf-8\") as archivo:\n",
    "    contenido = archivo.read()"
   ]
  },
  {
   "cell_type": "markdown",
   "id": "57654a9f",
   "metadata": {},
   "source": [
    "✓"
   ]
  },
  {
   "cell_type": "markdown",
   "id": "0a0626ee",
   "metadata": {},
   "source": [
    "creacion del objeto tipo soup"
   ]
  },
  {
   "cell_type": "code",
   "execution_count": 4,
   "id": "1f81ffc0",
   "metadata": {},
   "outputs": [],
   "source": [
    "soup = BeautifulSoup(contenido,'html.parser')"
   ]
  },
  {
   "cell_type": "markdown",
   "id": "47cf8fd7",
   "metadata": {},
   "source": [
    "✓"
   ]
  },
  {
   "cell_type": "markdown",
   "id": "0c74a140",
   "metadata": {},
   "source": [
    "extracion de los datos improtantes mediante metodo find_all"
   ]
  },
  {
   "cell_type": "code",
   "execution_count": 5,
   "id": "0039bcbe",
   "metadata": {},
   "outputs": [],
   "source": [
    "tabla_precio = soup.find_all('div', {'class': 'Price-sc-12dh9kl-3 geYYII'})\n",
    "#tabla_expensas = soup.find_all('div', {'class': 'Expenses-sc-12dh9kl-1 iboaIF'})\n",
    "tabla_direccio = soup.find_all('div', {'class': 'LocationAddress-sc-ge2uzh-0 iylBOA postingAddress'})\n",
    "tabla_lugar = soup.find_all('h2', {'class': 'LocationLocation-sc-ge2uzh-2 fziprF'})\n",
    "tabla_caracteristicas = soup.find_all('h3', {'class': 'PostingMainFeaturesBlock-sc-1uhtbxc-0 cHDgeO'})"
   ]
  },
  {
   "cell_type": "markdown",
   "id": "d2033280",
   "metadata": {},
   "source": [
    "✓"
   ]
  },
  {
   "cell_type": "markdown",
   "id": "89a537cd",
   "metadata": {},
   "source": [
    "se creara una lista que contendra a todas las sub listas de mas adelante"
   ]
  },
  {
   "cell_type": "code",
   "execution_count": 7,
   "id": "843e8171",
   "metadata": {},
   "outputs": [],
   "source": [
    "lista_b = []"
   ]
  },
  {
   "cell_type": "markdown",
   "id": "8c4c6474",
   "metadata": {},
   "source": [
    "✓"
   ]
  },
  {
   "cell_type": "markdown",
   "id": "5ea55393",
   "metadata": {},
   "source": [
    "- iteracion sobre una cantidad determinada por el metodo len()\n",
    "- creacion de la lista_a para contener todas las caracteristicas que se extraigan en las iteraciones\n",
    "- creacion de un segundo bucle que es donde se contendran todo las observaciones "
   ]
  },
  {
   "cell_type": "code",
   "execution_count": 8,
   "id": "8396273f",
   "metadata": {},
   "outputs": [],
   "source": [
    "for i in range(len(tabla_precio)):\n",
    "    lista_a = []  # Crear una nueva lista en cada iteración\n",
    "    lista_a.append(tabla_precio[i].text)\n",
    "    lista_a.append(tabla_direccio[i].text)\n",
    "    lista_a.append(tabla_lugar[i].text)\n",
    "    \n",
    "    # Obtener todas las características para el índice 'i'\n",
    "    caracteristicas = tabla_caracteristicas[i].find_all('span')\n",
    "    \n",
    "    # Iterar sobre las características y agregarlas a la lista\n",
    "    for j in range(len(caracteristicas)):  # Usar len(caracteristicas) para evitar el fuera de rango\n",
    "        lista_a.append(caracteristicas[j].text)\n",
    "    \n",
    "    lista_b.append(lista_a)"
   ]
  },
  {
   "cell_type": "markdown",
   "id": "c3a1dd89",
   "metadata": {},
   "source": [
    "✓"
   ]
  },
  {
   "cell_type": "markdown",
   "id": "58a6dd05",
   "metadata": {},
   "source": [
    "- lista de caracteristicas \n",
    "- creacion del df correspondiente\n",
    "- posterior guardado"
   ]
  },
  {
   "cell_type": "code",
   "execution_count": 1,
   "id": "4cc5800e",
   "metadata": {},
   "outputs": [
    {
     "ename": "NameError",
     "evalue": "name 'pd' is not defined",
     "output_type": "error",
     "traceback": [
      "\u001b[1;31m---------------------------------------------------------------------------\u001b[0m",
      "\u001b[1;31mNameError\u001b[0m                                 Traceback (most recent call last)",
      "Cell \u001b[1;32mIn[1], line 3\u001b[0m\n\u001b[0;32m      1\u001b[0m caracteristicas \u001b[38;5;241m=\u001b[39m [\u001b[38;5;124m'\u001b[39m\u001b[38;5;124mprecio\u001b[39m\u001b[38;5;124m'\u001b[39m, \u001b[38;5;124m'\u001b[39m\u001b[38;5;124mdireccion\u001b[39m\u001b[38;5;124m'\u001b[39m, \u001b[38;5;124m'\u001b[39m\u001b[38;5;124mlugar\u001b[39m\u001b[38;5;124m'\u001b[39m, \u001b[38;5;124m'\u001b[39m\u001b[38;5;124mm2 total\u001b[39m\u001b[38;5;124m'\u001b[39m, \u001b[38;5;124m'\u001b[39m\u001b[38;5;124mhabientes\u001b[39m\u001b[38;5;124m'\u001b[39m, \u001b[38;5;124m'\u001b[39m\u001b[38;5;124mdormitorios\u001b[39m\u001b[38;5;124m'\u001b[39m, \u001b[38;5;124m'\u001b[39m\u001b[38;5;124mbaños\u001b[39m\u001b[38;5;124m'\u001b[39m, \u001b[38;5;124m'\u001b[39m\u001b[38;5;124mcocheras\u001b[39m\u001b[38;5;124m'\u001b[39m]\n\u001b[1;32m----> 3\u001b[0m df \u001b[38;5;241m=\u001b[39m pd\u001b[38;5;241m.\u001b[39mDataFrame(lista_b, columns\u001b[38;5;241m=\u001b[39mcaracteristicas)\n\u001b[0;32m      5\u001b[0m df\u001b[38;5;241m.\u001b[39mto_csv(\u001b[38;5;124m'\u001b[39m\u001b[38;5;124mpagina_scrapeada_1.csv\u001b[39m\u001b[38;5;124m'\u001b[39m, index\u001b[38;5;241m=\u001b[39m\u001b[38;5;28;01mFalse\u001b[39;00m)\n",
      "\u001b[1;31mNameError\u001b[0m: name 'pd' is not defined"
     ]
    }
   ],
   "source": [
    "caracteristicas = ['precio', 'direccion', 'lugar', 'm2 total', 'habientes', 'dormitorios', 'baños', 'cocheras']\n",
    "\n",
    "df = pd.DataFrame(lista_b, columns=caracteristicas)\n",
    "\n",
    "df.to_csv('pagina_scrapeada_1.csv', index=False)"
   ]
  },
  {
   "cell_type": "markdown",
   "id": "dfaf526d",
   "metadata": {},
   "source": [
    "✓"
   ]
  },
  {
   "cell_type": "markdown",
   "id": "e412e610",
   "metadata": {},
   "source": [
    "se buscara el archivo .html despues de la creacion y posterior guardado del df en csv"
   ]
  },
  {
   "cell_type": "code",
   "execution_count": 26,
   "id": "f79fb545",
   "metadata": {},
   "outputs": [
    {
     "name": "stdout",
     "output_type": "stream",
     "text": [
      "El archivo /pagina_scrapeada_1.html no existe.\n"
     ]
    }
   ],
   "source": [
    "archivo_ = '/pagina_scrapeada_1.html'\n",
    "\n",
    "if os.path.exists(archivo_):\n",
    "    os.remove(archivo_)\n",
    "    print(f\"El archivo {archivo_} fue eliminado.\")\n",
    "else:\n",
    "    print(f\"El archivo {archivo_} no existe.\")"
   ]
  },
  {
   "cell_type": "markdown",
   "id": "32704fc3",
   "metadata": {},
   "source": [
    "✓"
   ]
  }
 ],
 "metadata": {
  "kernelspec": {
   "display_name": "Python 3 (ipykernel)",
   "language": "python",
   "name": "python3"
  },
  "language_info": {
   "codemirror_mode": {
    "name": "ipython",
    "version": 3
   },
   "file_extension": ".py",
   "mimetype": "text/x-python",
   "name": "python",
   "nbconvert_exporter": "python",
   "pygments_lexer": "ipython3",
   "version": "3.11.5"
  }
 },
 "nbformat": 4,
 "nbformat_minor": 5
}
