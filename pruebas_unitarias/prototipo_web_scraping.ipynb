{
 "cells": [
  {
   "cell_type": "markdown",
   "id": "c252eb37",
   "metadata": {},
   "source": [
    "# prueba unitaria web scraping\n"
   ]
  },
  {
   "cell_type": "markdown",
   "id": "30d0fc65",
   "metadata": {},
   "source": [
    "## librerias "
   ]
  },
  {
   "cell_type": "code",
   "execution_count": 143,
   "id": "5c67403e",
   "metadata": {},
   "outputs": [],
   "source": [
    "from selenium import webdriver\n",
    "from selenium.webdriver.chrome.service import Service\n",
    "from selenium.webdriver.chrome.options import Options\n",
    "from selenium.webdriver.common.by import By\n",
    "from selenium.webdriver.common.action_chains import ActionChains\n",
    "from selenium.webdriver.support.ui import WebDriverWait\n",
    "from selenium.webdriver.support import expected_conditions as EC\n",
    "from bs4 import BeautifulSoup\n",
    "\n",
    "import time"
   ]
  },
  {
   "cell_type": "markdown",
   "id": "c2d3d412",
   "metadata": {},
   "source": [
    "## scraping de la pagina principal"
   ]
  },
  {
   "cell_type": "markdown",
   "id": "d45f37c0",
   "metadata": {},
   "source": [
    "se crea una variable que contenga la url"
   ]
  },
  {
   "cell_type": "code",
   "execution_count": 144,
   "id": "6cef61b8",
   "metadata": {},
   "outputs": [],
   "source": [
    "url = 'https://www.zonaprop.com.ar/inmuebles-venta-san-justo-la-matanza.html'"
   ]
  },
  {
   "cell_type": "markdown",
   "id": "1fbe5a27",
   "metadata": {},
   "source": [
    "se ingresa a la pagina"
   ]
  },
  {
   "cell_type": "code",
   "execution_count": 145,
   "id": "2ad6b499",
   "metadata": {},
   "outputs": [],
   "source": [
    "chrome_options = Options()\n",
    "service = Service('C:\\chromedriver-win64\\chromedriver-win64\\chromedriver.exe')\n",
    "driver = webdriver.Chrome(service=service, options=chrome_options)\n",
    "time.sleep(3)\n",
    "\n",
    "driver.get(url)\n",
    "time.sleep(3)"
   ]
  },
  {
   "cell_type": "markdown",
   "id": "24f3063b",
   "metadata": {},
   "source": [
    "✓"
   ]
  },
  {
   "cell_type": "markdown",
   "id": "12587a08",
   "metadata": {},
   "source": [
    "se aceptan las cookies"
   ]
  },
  {
   "cell_type": "code",
   "execution_count": 146,
   "id": "3187b1e5",
   "metadata": {},
   "outputs": [
    {
     "name": "stdout",
     "output_type": "stream",
     "text": [
      "Se aceptaron las cookies automáticamente.\n"
     ]
    }
   ],
   "source": [
    "try:\n",
    "    aceptar_btn = WebDriverWait(driver, 10).until(\n",
    "        EC.element_to_be_clickable((By.XPATH, \"//button[text()='Acepto']\"))\n",
    "    )\n",
    "    time.sleep(3)\n",
    "    aceptar_btn.click()\n",
    "    print(\"Se aceptaron las cookies automáticamente.\")\n",
    "except Exception as e:\n",
    "    print(\"No se encontró el botón de cookies o algo falló:\", e)"
   ]
  },
  {
   "cell_type": "markdown",
   "id": "0dabe8f2",
   "metadata": {},
   "source": [
    "✓"
   ]
  },
  {
   "cell_type": "markdown",
   "id": "bb496ba5",
   "metadata": {},
   "source": [
    "se trae el html y se lo guarda"
   ]
  },
  {
   "cell_type": "code",
   "execution_count": 147,
   "id": "0c39a059",
   "metadata": {},
   "outputs": [],
   "source": [
    "html = driver.page_source"
   ]
  },
  {
   "cell_type": "code",
   "execution_count": 148,
   "id": "a4d1b3fc",
   "metadata": {},
   "outputs": [
    {
     "name": "stdout",
     "output_type": "stream",
     "text": [
      "HTML guardado correctamente en 'pagina_scrapeada.html'\n"
     ]
    }
   ],
   "source": [
    "with open(f'pagina_scrapeada.html', 'w', encoding='utf-8') as file:\n",
    "            file.write(html)\n",
    "\n",
    "print(f\"HTML guardado correctamente en 'pagina_scrapeada.html'\")"
   ]
  },
  {
   "cell_type": "markdown",
   "id": "37db22a1",
   "metadata": {},
   "source": [
    "se  obtiene de elementos \"data-qa*\" y posteriormente se extrae del primer elemento de la lista lo que contenga el atributo \"data-to-posting\""
   ]
  },
  {
   "cell_type": "code",
   "execution_count": 149,
   "id": "32eb4e64",
   "metadata": {},
   "outputs": [],
   "source": [
    "listado_publicaciones = driver.find_elements(By.CSS_SELECTOR, '[data-qa*=\"posting PROPERTY\"]')\n",
    "\n",
    "url_posting = []\n",
    "\n",
    "for i in listado_publicaciones:\n",
    "\n",
    "    url_posting.append(i.get_attribute('data-to-posting'))"
   ]
  },
  {
   "cell_type": "markdown",
   "id": "6b242605",
   "metadata": {},
   "source": [
    "✓"
   ]
  },
  {
   "cell_type": "markdown",
   "id": "1b9d6486",
   "metadata": {},
   "source": [
    "se guarda el archivo"
   ]
  },
  {
   "cell_type": "code",
   "execution_count": 129,
   "id": "12dee078",
   "metadata": {},
   "outputs": [
    {
     "name": "stdout",
     "output_type": "stream",
     "text": [
      "HTML guardado correctamente en 'pagina_scrapeada.html'\n"
     ]
    }
   ],
   "source": [
    "with open(f'pagina_scrapeada.html', 'w', encoding='utf-8') as file:\n",
    "            file.write(html)\n",
    "\n",
    "print(f\"HTML guardado correctamente en 'pagina_scrapeada.html'\")"
   ]
  },
  {
   "cell_type": "markdown",
   "id": "8562424d",
   "metadata": {},
   "source": [
    "✓"
   ]
  },
  {
   "cell_type": "markdown",
   "id": "3effbfc9",
   "metadata": {},
   "source": [
    "cierra la pagina"
   ]
  },
  {
   "cell_type": "code",
   "execution_count": 119,
   "id": "72c217b3",
   "metadata": {},
   "outputs": [],
   "source": [
    "driver.quit()"
   ]
  },
  {
   "cell_type": "markdown",
   "id": "b132a224",
   "metadata": {},
   "source": [
    "✓"
   ]
  },
  {
   "cell_type": "markdown",
   "id": "758660ec",
   "metadata": {},
   "source": [
    " "
   ]
  },
  {
   "cell_type": "markdown",
   "id": "7b0b1940",
   "metadata": {},
   "source": [
    " "
   ]
  },
  {
   "cell_type": "markdown",
   "id": "7547529e",
   "metadata": {},
   "source": [
    "## scraping de las paginas guardadas en la lista url_posting"
   ]
  },
  {
   "cell_type": "code",
   "execution_count": 135,
   "id": "e9498a32",
   "metadata": {},
   "outputs": [],
   "source": [
    "url_ = 'https://www.zonaprop.com.ar'+listado_publicaciones[0].get_attribute('data-to-posting')"
   ]
  },
  {
   "cell_type": "code",
   "execution_count": 136,
   "id": "3b4cd81f",
   "metadata": {},
   "outputs": [
    {
     "name": "stdout",
     "output_type": "stream",
     "text": [
      "https://www.zonaprop.com.ar/propiedades/clasificado/vecltrin-unica-fraccion-en-venta-en-el-centro-de-san-justo-54414278.html\n"
     ]
    }
   ],
   "source": [
    "print(url_)"
   ]
  },
  {
   "cell_type": "code",
   "execution_count": 137,
   "id": "d4f84ba9",
   "metadata": {},
   "outputs": [],
   "source": [
    "chrome_options = Options()\n",
    "service = Service('C:\\chromedriver-win64\\chromedriver-win64\\chromedriver.exe')\n",
    "driver = webdriver.Chrome(service=service, options=chrome_options)\n",
    "time.sleep(3)\n",
    "\n",
    "driver.get(url)\n",
    "time.sleep(3)"
   ]
  },
  {
   "cell_type": "code",
   "execution_count": 138,
   "id": "59776906",
   "metadata": {},
   "outputs": [
    {
     "name": "stdout",
     "output_type": "stream",
     "text": [
      "Se aceptaron las cookies automáticamente.\n"
     ]
    }
   ],
   "source": [
    "try:\n",
    "    aceptar_btn = WebDriverWait(driver, 10).until(\n",
    "        EC.element_to_be_clickable((By.XPATH, \"//button[text()='Acepto']\"))\n",
    "    )\n",
    "    time.sleep(3)\n",
    "    aceptar_btn.click()\n",
    "    print(\"Se aceptaron las cookies automáticamente.\")\n",
    "except Exception as e:\n",
    "    print(\"No se encontró el botón de cookies o algo falló:\", e)"
   ]
  },
  {
   "cell_type": "code",
   "execution_count": 139,
   "id": "798aab74",
   "metadata": {},
   "outputs": [],
   "source": [
    "html_ = driver.page_source"
   ]
  },
  {
   "cell_type": "code",
   "execution_count": 140,
   "id": "cdb67feb",
   "metadata": {},
   "outputs": [
    {
     "name": "stdout",
     "output_type": "stream",
     "text": [
      "HTML guardado correctamente en 'pagina_scrapeada.html'\n"
     ]
    }
   ],
   "source": [
    "with open(f'pagina_scrapeada.html_', 'w', encoding='utf-8') as file:\n",
    "            file.write(html)\n",
    "\n",
    "print(f\"HTML guardado correctamente en 'pagina_scrapeada.html'\")"
   ]
  },
  {
   "cell_type": "code",
   "execution_count": 141,
   "id": "7bb9ce6e",
   "metadata": {},
   "outputs": [],
   "source": [
    "driver.quit()"
   ]
  },
  {
   "cell_type": "markdown",
   "id": "8a5de487",
   "metadata": {},
   "source": [
    "✓"
   ]
  }
 ],
 "metadata": {
  "kernelspec": {
   "display_name": "Python 3 (ipykernel)",
   "language": "python",
   "name": "python3"
  },
  "language_info": {
   "codemirror_mode": {
    "name": "ipython",
    "version": 3
   },
   "file_extension": ".py",
   "mimetype": "text/x-python",
   "name": "python",
   "nbconvert_exporter": "python",
   "pygments_lexer": "ipython3",
   "version": "3.11.5"
  }
 },
 "nbformat": 4,
 "nbformat_minor": 5
}
